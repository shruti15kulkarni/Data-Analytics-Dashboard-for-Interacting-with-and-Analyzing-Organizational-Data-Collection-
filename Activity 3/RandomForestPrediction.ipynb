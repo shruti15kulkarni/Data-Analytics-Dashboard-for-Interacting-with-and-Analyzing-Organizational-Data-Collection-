{
 "cells": [
  {
   "cell_type": "code",
   "execution_count": null,
   "metadata": {
    "collapsed": true
   },
   "outputs": [],
   "source": [
    "#install.packages(\"h2o\")\n",
    "library(h2o)"
   ]
  },
  {
   "cell_type": "markdown",
   "metadata": {},
   "source": [
    "Loading the data set"
   ]
  },
  {
   "cell_type": "code",
   "execution_count": 15,
   "metadata": {
    "collapsed": true
   },
   "outputs": [],
   "source": [
    "car_dataset_loc <- \"Desktop/training.csv\"\n",
    "car_dataset <- read.csv(car_dataset_loc)"
   ]
  },
  {
   "cell_type": "markdown",
   "metadata": {},
   "source": [
    "Preprocessing the data"
   ]
  },
  {
   "cell_type": "code",
   "execution_count": 16,
   "metadata": {
    "collapsed": true
   },
   "outputs": [],
   "source": [
    "car_dataset$RefId <- NULL\n",
    "car_dataset$PurchDate <- NULL\n",
    "car_dataset$WheelTypeID <- NULL\n",
    "\n",
    "\n",
    "car_dataset <- data.frame(lapply(car_dataset, as.character), stringsAsFactors = FALSE)\n",
    "car_dataset[car_dataset == \"\"] <- NA\n",
    "car_dataset[car_dataset == \"NULL\"] <- NA\n",
    "\n",
    "\n",
    "categorical_var <- c(\"IsBadBuy\", \"Auction\", \"Make\", \"Model\", \"Trim\", \"SubModel\", \"Color\", \"Transmission\",\n",
    "               \"WheelType\", \"Nationality\", \"Size\", \"TopThreeAmericanName\", \"PRIMEUNIT\", \"AUCGUART\", \"BYRNO\",\n",
    "               \"VNZIP1\", \"VNST\", \"IsOnlineSale\")\n",
    "car_dataset[categorical_var] <- lapply(car_dataset[categorical_var], as.factor)\n",
    "\n",
    "\n",
    "numerical_var <- c(\"VehYear\", \"VehicleAge\", \"VehOdo\", \"MMRAcquisitionAuctionAveragePrice\", \"MMRAcquisitionAuctionCleanPrice\",\n",
    "                \"MMRAcquisitionRetailAveragePrice\", \"MMRAcquisitonRetailCleanPrice\", \"MMRCurrentAuctionAveragePrice\", \n",
    "                \"MMRCurrentAuctionCleanPrice\", \"MMRCurrentRetailAveragePrice\", \"MMRCurrentRetailCleanPrice\",\n",
    "                \"VehBCost\", \"WarrantyCost\")\n",
    "car_dataset[numerical_var] <- lapply(car_dataset[numerical_var], as.numeric)\n",
    "\n"
   ]
  },
  {
   "cell_type": "markdown",
   "metadata": {},
   "source": [
    "Applying random forest prediction"
   ]
  },
  {
   "cell_type": "code",
   "execution_count": 17,
   "metadata": {
    "collapsed": false
   },
   "outputs": [
    {
     "name": "stdout",
     "output_type": "stream",
     "text": [
      " Connection successful!\n",
      "\n",
      "R is connected to the H2O cluster: \n",
      "    H2O cluster uptime:         4 hours 12 minutes \n",
      "    H2O cluster version:        3.10.4.6 \n",
      "    H2O cluster version age:    10 days  \n",
      "    H2O cluster name:           H2O_started_from_R_vijaykulkarni_mus090 \n",
      "    H2O cluster total nodes:    1 \n",
      "    H2O cluster total memory:   0.68 GB \n",
      "    H2O cluster total cores:    4 \n",
      "    H2O cluster allowed cores:  4 \n",
      "    H2O cluster healthy:        TRUE \n",
      "    H2O Connection ip:          localhost \n",
      "    H2O Connection port:        54321 \n",
      "    H2O Connection proxy:       NA \n",
      "    H2O Internal Security:      FALSE \n",
      "    R Version:                  R version 3.3.2 (2016-10-31) \n",
      "\n"
     ]
    },
    {
     "data": {
      "text/plain": [
       "H2OBinomialMetrics: drf\n",
       "** Reported on validation data. **\n",
       "\n",
       "MSE:  0.08905486\n",
       "RMSE:  0.2984206\n",
       "LogLoss:  0.312403\n",
       "Mean Per-Class Error:  0.3447942\n",
       "AUC:  0.7477289\n",
       "Gini:  0.4954578\n",
       "\n",
       "Confusion Matrix (vertical: actual; across: predicted) for F1-optimal threshold:\n",
       "           0    1    Error         Rate\n",
       "0      11800 1044 0.081283  =1044/12844\n",
       "1       1084  698 0.608305   =1084/1782\n",
       "Totals 12884 1742 0.145494  =2128/14626\n",
       "\n",
       "Maximum Metrics: Maximum metrics at their respective thresholds\n",
       "                        metric threshold    value idx\n",
       "1                       max f1  0.227548 0.396141 178\n",
       "2                       max f2  0.103883 0.479468 280\n",
       "3                 max f0point5  0.551259 0.528476  66\n",
       "4                 max accuracy  0.570902 0.898674  58\n",
       "5                max precision  0.772583 1.000000   0\n",
       "6                   max recall  0.004078 1.000000 397\n",
       "7              max specificity  0.772583 1.000000   0\n",
       "8             max absolute_mcc  0.551259 0.389085  66\n",
       "9   max min_per_class_accuracy  0.112165 0.669963 271\n",
       "10 max mean_per_class_accuracy  0.146032 0.680825 240\n",
       "\n",
       "Gains/Lift Table: Extract with `h2o.gainsLift(<model>, <data>)` or `h2o.gainsLift(<model>, valid=<T/F>, xval=<T/F>)`"
      ]
     },
     "metadata": {},
     "output_type": "display_data"
    }
   ],
   "source": [
    "h2o.no_progress()\n",
    "h2o.init(nthreads = -1)\n",
    "car_dataset_h2o <- as.h2o(car_dataset)\n",
    "car_dataset_h2o <- h2o.splitFrame(car_dataset_h2o, ratios = 0.80, destination_frames = c(\"train\", \"test\"))\n",
    "names(car_dataset_h2o) <- c(\"train\", \"test\")\n",
    "#write.csv(as.data.frame(car_dataset_h2o$test), \"testset.csv\")\n",
    "inputModel <- names(car_dataset[-1])\n",
    "\n",
    "rf_car_dataset <- h2o.randomForest(training_frame = car_dataset_h2o$train, validation_frame = car_dataset_h2o$test, x = inputModel, y = \"IsBadBuy\", ntrees = 100, stopping_rounds = 2)\n",
    "\n",
    "rf_car_dataset@model$validation_metric\n"
   ]
  },
  {
   "cell_type": "markdown",
   "metadata": {},
   "source": [
    "Write the variable importance attached to each column name to a csv file"
   ]
  },
  {
   "cell_type": "code",
   "execution_count": 10,
   "metadata": {
    "collapsed": true
   },
   "outputs": [],
   "source": [
    "varimp <- h2o.varimp(rf_car_dataset)\n",
    "write.csv(as.data.frame(varimp),\"Desktop/varimp.csv\")"
   ]
  },
  {
   "cell_type": "markdown",
   "metadata": {},
   "source": [
    "Obtain the predicted values"
   ]
  },
  {
   "cell_type": "code",
   "execution_count": 18,
   "metadata": {
    "collapsed": true
   },
   "outputs": [],
   "source": [
    "test=as.data.frame(car_dataset_h2o$test)\n",
    "predictedVal=as.data.frame(predict(rf_car_dataset, car_dataset_h2o$test))\n",
    "test$predictedVal=predictedVal$predict"
   ]
  },
  {
   "cell_type": "markdown",
   "metadata": {},
   "source": [
    "Assign probabilities to predicted values"
   ]
  },
  {
   "cell_type": "code",
   "execution_count": 20,
   "metadata": {
    "collapsed": false
   },
   "outputs": [],
   "source": [
    "test$p0 <- predictedVal$p0\n",
    "test$p1 <- predictedVal$p1\n",
    "write.csv(test,\"testing-file.csv\")"
   ]
  },
  {
   "cell_type": "code",
   "execution_count": null,
   "metadata": {
    "collapsed": true
   },
   "outputs": [],
   "source": []
  }
 ],
 "metadata": {
  "kernelspec": {
   "display_name": "R",
   "language": "R",
   "name": "ir"
  },
  "language_info": {
   "codemirror_mode": "r",
   "file_extension": ".r",
   "mimetype": "text/x-r-source",
   "name": "R",
   "pygments_lexer": "r",
   "version": "3.3.2"
  }
 },
 "nbformat": 4,
 "nbformat_minor": 2
}
